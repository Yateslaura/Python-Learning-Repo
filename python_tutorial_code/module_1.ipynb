{
 "cells": [
  {
   "cell_type": "code",
   "execution_count": 6,
   "metadata": {},
   "outputs": [
    {
     "name": "stdout",
     "output_type": "stream",
     "text": [
      "11\n"
     ]
    }
   ],
   "source": [
    "num_1 = 1\n",
    "num_2 = 10\n",
    "sum_1_2 = num_1 + num_2\n",
    "print (sum_1_2)\n"
   ]
  },
  {
   "cell_type": "code",
   "execution_count": 27,
   "metadata": {},
   "outputs": [
    {
     "name": "stdout",
     "output_type": "stream",
     "text": [
      "2\n"
     ]
    }
   ],
   "source": [
    "x = 1\n",
    "y = 2\n",
    "print (x*y)"
   ]
  },
  {
   "cell_type": "code",
   "execution_count": 43,
   "metadata": {},
   "outputs": [
    {
     "name": "stdout",
     "output_type": "stream",
     "text": [
      "My name is will and I am the teacher\n",
      "My name is will and I am the teacher\n"
     ]
    }
   ],
   "source": [
    "name = \"will\"\n",
    "job = \"teacher\"\n",
    "longer_string = \"My name is \" + name + \" and I am the \" + job\n",
    "print (longer_string)\n",
    "phrase = f\"My name is {name} and I am the {job}\"\n",
    "print (phrase)"
   ]
  },
  {
   "cell_type": "code",
   "execution_count": 52,
   "metadata": {},
   "outputs": [
    {
     "name": "stdout",
     "output_type": "stream",
     "text": [
      "my name is Laura and i am an Intelligence Officer.\n"
     ]
    }
   ],
   "source": [
    "name = \"Laura\"\n",
    "job = \"Intelligence Officer\"\n",
    "phrase = f\"my name is {name} and i am an {job}.\"\n",
    "print(phrase)"
   ]
  },
  {
   "cell_type": "code",
   "execution_count": 54,
   "metadata": {},
   "outputs": [
    {
     "name": "stdout",
     "output_type": "stream",
     "text": [
      "the rate of cin plans per 10000 children is 129.03225806451613\n"
     ]
    }
   ],
   "source": [
    "cin_plan = 200\n",
    "total_pop = 15500\n",
    "\n",
    "rp10k = (cin_plan / total_pop) * 10000\n",
    "explanation = f\"the rate of cin plans per 10000 children is {rp10k}\"\n",
    "print (explanation)"
   ]
  },
  {
   "cell_type": "code",
   "execution_count": 62,
   "metadata": {},
   "outputs": [
    {
     "name": "stdout",
     "output_type": "stream",
     "text": [
      "the filename is: 93hae\n"
     ]
    }
   ],
   "source": [
    "filename = \"c://desktop/data/903_header.csv\"\n",
    "#print(filename)\n",
    "\n",
    "substring = filename[10]\n",
    "#print(substring)\n",
    "# [start:stop]\n",
    "substring_2 = filename[10:21]\n",
    "#print(substring_2)\n",
    "\n",
    "substring_3 = filename [-4:]\n",
    "#print(substring_3)\n",
    "\n",
    "substring_4 = filename[17:-4:2]\n",
    "long_phrase = f\"the filename is: {substring_4}\"\n",
    "print(long_phrase)"
   ]
  },
  {
   "cell_type": "code",
   "execution_count": 64,
   "metadata": {},
   "outputs": [
    {
     "name": "stdout",
     "output_type": "stream",
     "text": [
      "esarhp siht esrever\n"
     ]
    }
   ],
   "source": [
    "phrase = \"reverse this phrase\"\n",
    "reversed = phrase [-1: :-1]\n",
    "print(reversed)"
   ]
  },
  {
   "cell_type": "code",
   "execution_count": 73,
   "metadata": {},
   "outputs": [
    {
     "name": "stdout",
     "output_type": "stream",
     "text": [
      "[1, 'reverse this phrase', 'the filename is: 93hae']\n",
      "<class 'list'>\n"
     ]
    }
   ],
   "source": [
    "list_1 = [1, phrase, long_phrase]\n",
    "print(list_1)\n",
    "print (type(list_1))"
   ]
  },
  {
   "cell_type": "code",
   "execution_count": 6,
   "metadata": {},
   "outputs": [
    {
     "name": "stdout",
     "output_type": "stream",
     "text": [
      "['purple', 'green', 'blue', 'red']\n",
      "['teal', 'orange']\n",
      "['red', 'blue', 'green', 'purple', ['teal', 'orange'], 'r', 'e', 'd']\n",
      "['blue', 'green', 'purple', ['teal', 'orange'], 'r', 'e', 'd']\n"
     ]
    }
   ],
   "source": [
    "colours = ['red', 'blue', 'green', 'purple']\n",
    "# [start:stop:step]\n",
    "print(colours[-1::-1])\n",
    "\n",
    "colours.append(['teal','orange'])\n",
    "print(colours[4])\n",
    "\n",
    "colours.extend(\"red\")\n",
    "print(colours)\n",
    "\n",
    "colours.remove('red')\n",
    "print(colours)\n"
   ]
  },
  {
   "cell_type": "code",
   "execution_count": 77,
   "metadata": {},
   "outputs": [
    {
     "name": "stdout",
     "output_type": "stream",
     "text": [
      "5\n"
     ]
    }
   ],
   "source": [
    "x = 5\n",
    "x = 6\n",
    "x = 7\n",
    "x += 1\n",
    "x = 5 \n",
    "print(x)"
   ]
  }
 ],
 "metadata": {
  "kernelspec": {
   "display_name": "Python 3",
   "language": "python",
   "name": "python3"
  },
  "language_info": {
   "codemirror_mode": {
    "name": "ipython",
    "version": 3
   },
   "file_extension": ".py",
   "mimetype": "text/x-python",
   "name": "python",
   "nbconvert_exporter": "python",
   "pygments_lexer": "ipython3",
   "version": "3.10.13"
  }
 },
 "nbformat": 4,
 "nbformat_minor": 2
}
